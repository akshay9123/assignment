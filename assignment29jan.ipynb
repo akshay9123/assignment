{
 "cells": [
  {
   "cell_type": "code",
   "execution_count": null,
   "id": "057508d3-bb45-48cd-9ae6-fc9b2f47926c",
   "metadata": {},
   "outputs": [],
   "source": [
    "q1. who developed python programming language\n",
    "ans :-  Guido van Rossum \n",
    "\n",
    "q2. which type of programming does python support\n",
    "ans :- Object-oriented programming and structured programming \n",
    "\n",
    "q3. is python case sensitive when dealing with identifiers\n",
    "ans :- yes\n",
    "\n",
    "q4. what is the correct extension of the python file\n",
    "ans :- .py\n",
    "\n",
    "q5. is python compiled or interpreted\n",
    "ans :- interpreted\n",
    "\n",
    "q6. name the few block of code used to define in python language\n",
    "ans :-  a module, a function body, and a class definition\n",
    "\n",
    "q7. state the character used to give the single line comment in python\n",
    "ans :- # charecter\n",
    "\n",
    "q8. mention the function which can help us to find the version of python that are currently working on\n",
    "ans :- sys. version\n",
    "\n",
    "q9. python supports the creation of anonymous functions at runtime using a construct called\n",
    "ans :- lambda\n",
    "\n",
    "q10. what does pip stand for python\n",
    "ans :- pip Install Packages\n",
    "\n",
    "q11. mention a few built in function in python \n",
    "ans :- print(), append(), bytes()....\n",
    "\n",
    "q12. what is the maximum length of an identifier in python\n",
    "ans :- 79 charecter\n",
    "\n",
    "q13. what is the benefits of python\n",
    "ans :- Large developer community. Python is one of the most popular programming languages in the world. ...\n",
    "       Extensive libraries. Python offers a wide range of libraries that can be used across various applications. ...\n",
    "       Write less, do more. Python has very concise syntax. ...\n",
    "       Portability. ...\n",
    "    \n",
    "q14. how is memory managed in python\n",
    "ans :- Memory management in Python involves a private heap containing all Python objects and data structures.\n",
    "\n",
    "q15. how to install python on windows and set path variable\n",
    "ans :- \n"
   ]
  }
 ],
 "metadata": {
  "kernelspec": {
   "display_name": "Python 3 (ipykernel)",
   "language": "python",
   "name": "python3"
  },
  "language_info": {
   "codemirror_mode": {
    "name": "ipython",
    "version": 3
   },
   "file_extension": ".py",
   "mimetype": "text/x-python",
   "name": "python",
   "nbconvert_exporter": "python",
   "pygments_lexer": "ipython3",
   "version": "3.10.8"
  }
 },
 "nbformat": 4,
 "nbformat_minor": 5
}
