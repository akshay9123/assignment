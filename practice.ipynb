{
 "cells": [
  {
   "cell_type": "code",
   "execution_count": 1,
   "id": "c3dffa90-74ca-430e-8148-cf3032892a35",
   "metadata": {},
   "outputs": [],
   "source": [
    "var=[1,23.4,\"akshay\",5+7j]"
   ]
  },
  {
   "cell_type": "code",
   "execution_count": 2,
   "id": "6b7c6889-be7e-4da1-87dc-b0a4cde460f1",
   "metadata": {},
   "outputs": [
    {
     "data": {
      "text/plain": [
       "[1, 23.4, 'akshay', (5+7j)]"
      ]
     },
     "execution_count": 2,
     "metadata": {},
     "output_type": "execute_result"
    }
   ],
   "source": [
    "var"
   ]
  },
  {
   "cell_type": "code",
   "execution_count": 3,
   "id": "c35da22d-f957-4313-a90e-aee6a9b74249",
   "metadata": {},
   "outputs": [
    {
     "data": {
      "text/plain": [
       "1"
      ]
     },
     "execution_count": 3,
     "metadata": {},
     "output_type": "execute_result"
    }
   ],
   "source": [
    "var[0]"
   ]
  },
  {
   "cell_type": "code",
   "execution_count": 4,
   "id": "fedd7832-185e-411b-9bd8-4ca5b3424111",
   "metadata": {},
   "outputs": [
    {
     "data": {
      "text/plain": [
       "[1, 23.4, 'akshay']"
      ]
     },
     "execution_count": 4,
     "metadata": {},
     "output_type": "execute_result"
    }
   ],
   "source": [
    "var[0:3]"
   ]
  },
  {
   "cell_type": "code",
   "execution_count": 5,
   "id": "5f3c548d-1af9-4a17-8ef8-881b015cc555",
   "metadata": {},
   "outputs": [
    {
     "data": {
      "text/plain": [
       "[1, 'akshay']"
      ]
     },
     "execution_count": 5,
     "metadata": {},
     "output_type": "execute_result"
    }
   ],
   "source": [
    "var[::2]"
   ]
  },
  {
   "cell_type": "code",
   "execution_count": 7,
   "id": "9a226938-e83c-4483-8d32-46909aa6e08a",
   "metadata": {},
   "outputs": [],
   "source": [
    "var=[1,23.4,\"akshay\",5+7j,True,False]"
   ]
  },
  {
   "cell_type": "code",
   "execution_count": null,
   "id": "9ecb2245-d360-42e8-b375-576c81cfa8f4",
   "metadata": {},
   "outputs": [],
   "source": []
  },
  {
   "cell_type": "code",
   "execution_count": 8,
   "id": "c32a1a4d-4ef8-426a-8a4f-6322a2ad3dca",
   "metadata": {},
   "outputs": [
    {
     "data": {
      "text/plain": [
       "[1, 23.4, 'akshay', (5+7j), True, False]"
      ]
     },
     "execution_count": 8,
     "metadata": {},
     "output_type": "execute_result"
    }
   ],
   "source": [
    "var"
   ]
  },
  {
   "cell_type": "code",
   "execution_count": 9,
   "id": "2e63b751-60c4-4ebf-bf53-1cc3efc215ce",
   "metadata": {},
   "outputs": [
    {
     "data": {
      "text/plain": [
       "[1, 'akshay', True]"
      ]
     },
     "execution_count": 9,
     "metadata": {},
     "output_type": "execute_result"
    }
   ],
   "source": [
    "var[::2]"
   ]
  },
  {
   "cell_type": "code",
   "execution_count": 10,
   "id": "5a468590-31af-4d31-a8dc-874cdb9755b1",
   "metadata": {},
   "outputs": [],
   "source": [
    "st=\"kumar\""
   ]
  },
  {
   "cell_type": "code",
   "execution_count": 13,
   "id": "3144a7c7-9e1b-43c1-a8da-b50293244e66",
   "metadata": {},
   "outputs": [
    {
     "data": {
      "text/plain": [
       "'akshay'"
      ]
     },
     "execution_count": 13,
     "metadata": {},
     "output_type": "execute_result"
    }
   ],
   "source": [
    "var[2]"
   ]
  },
  {
   "cell_type": "code",
   "execution_count": 14,
   "id": "5e8e9b5e-e098-44ea-aae2-6c59b6a31cda",
   "metadata": {},
   "outputs": [
    {
     "data": {
      "text/plain": [
       "str"
      ]
     },
     "execution_count": 14,
     "metadata": {},
     "output_type": "execute_result"
    }
   ],
   "source": [
    "type(var[2])"
   ]
  },
  {
   "cell_type": "code",
   "execution_count": 15,
   "id": "738b2020-1e2d-4543-a098-92b3aa3eaee6",
   "metadata": {},
   "outputs": [
    {
     "data": {
      "text/plain": [
       "'akshay'"
      ]
     },
     "execution_count": 15,
     "metadata": {},
     "output_type": "execute_result"
    }
   ],
   "source": [
    "var[2]"
   ]
  },
  {
   "cell_type": "code",
   "execution_count": 16,
   "id": "74a013d2-ce5c-459a-9bdd-35e754aa5be7",
   "metadata": {},
   "outputs": [
    {
     "data": {
      "text/plain": [
       "'aks'"
      ]
     },
     "execution_count": 16,
     "metadata": {},
     "output_type": "execute_result"
    }
   ],
   "source": [
    "var[2][0:3]"
   ]
  },
  {
   "cell_type": "code",
   "execution_count": 17,
   "id": "11c08472-2e6b-485b-86ae-b78abdffaaee",
   "metadata": {},
   "outputs": [
    {
     "data": {
      "text/plain": [
       "True"
      ]
     },
     "execution_count": 17,
     "metadata": {},
     "output_type": "execute_result"
    }
   ],
   "source": [
    "var[4]"
   ]
  },
  {
   "cell_type": "code",
   "execution_count": 20,
   "id": "9fa94648-71e6-437d-991d-3f3e19730b70",
   "metadata": {},
   "outputs": [],
   "source": [
    "new=[1,2,4]"
   ]
  },
  {
   "cell_type": "code",
   "execution_count": 21,
   "id": "357084ac-da80-41e6-8dc3-ca04dbe7d4fc",
   "metadata": {},
   "outputs": [
    {
     "data": {
      "text/plain": [
       "[1, 23.4, 'akshay', (5+7j), True, False, 1, 2, 4]"
      ]
     },
     "execution_count": 21,
     "metadata": {},
     "output_type": "execute_result"
    }
   ],
   "source": [
    "var+new"
   ]
  },
  {
   "cell_type": "code",
   "execution_count": 22,
   "id": "4db972f2-c235-4dcd-ad9d-cadac98d27e2",
   "metadata": {},
   "outputs": [],
   "source": [
    "l1=var+new"
   ]
  },
  {
   "cell_type": "code",
   "execution_count": 23,
   "id": "5516c9da-0ac0-4be3-9fcd-8afc0794e05b",
   "metadata": {},
   "outputs": [
    {
     "data": {
      "text/plain": [
       "[1, 23.4, 'akshay', (5+7j), True, False, 1, 2, 4]"
      ]
     },
     "execution_count": 23,
     "metadata": {},
     "output_type": "execute_result"
    }
   ],
   "source": [
    "l1"
   ]
  },
  {
   "cell_type": "code",
   "execution_count": 24,
   "id": "fec000af-e500-44a5-8692-c134923171d5",
   "metadata": {},
   "outputs": [
    {
     "data": {
      "text/plain": [
       "[1,\n",
       " 23.4,\n",
       " 'akshay',\n",
       " (5+7j),\n",
       " True,\n",
       " False,\n",
       " 1,\n",
       " 2,\n",
       " 4,\n",
       " 1,\n",
       " 23.4,\n",
       " 'akshay',\n",
       " (5+7j),\n",
       " True,\n",
       " False,\n",
       " 1,\n",
       " 2,\n",
       " 4,\n",
       " 1,\n",
       " 23.4,\n",
       " 'akshay',\n",
       " (5+7j),\n",
       " True,\n",
       " False,\n",
       " 1,\n",
       " 2,\n",
       " 4]"
      ]
     },
     "execution_count": 24,
     "metadata": {},
     "output_type": "execute_result"
    }
   ],
   "source": [
    "l1*3"
   ]
  },
  {
   "cell_type": "code",
   "execution_count": 25,
   "id": "37de72dc-0a82-42cb-8f4b-0b43b594df3e",
   "metadata": {},
   "outputs": [],
   "source": [
    "l1.append(7)"
   ]
  },
  {
   "cell_type": "code",
   "execution_count": 26,
   "id": "59c38dc3-ade9-4825-b3df-a005032266f3",
   "metadata": {},
   "outputs": [
    {
     "data": {
      "text/plain": [
       "[1, 23.4, 'akshay', (5+7j), True, False, 1, 2, 4, 7]"
      ]
     },
     "execution_count": 26,
     "metadata": {},
     "output_type": "execute_result"
    }
   ],
   "source": [
    "l1"
   ]
  },
  {
   "cell_type": "code",
   "execution_count": 27,
   "id": "a254cb81-f9b6-4a78-9d3a-f67aff19e69c",
   "metadata": {},
   "outputs": [
    {
     "ename": "TypeError",
     "evalue": "list.count() takes exactly one argument (0 given)",
     "output_type": "error",
     "traceback": [
      "\u001b[0;31m---------------------------------------------------------------------------\u001b[0m",
      "\u001b[0;31mTypeError\u001b[0m                                 Traceback (most recent call last)",
      "Cell \u001b[0;32mIn[27], line 1\u001b[0m\n\u001b[0;32m----> 1\u001b[0m \u001b[43ml1\u001b[49m\u001b[38;5;241;43m.\u001b[39;49m\u001b[43mcount\u001b[49m\u001b[43m(\u001b[49m\u001b[43m)\u001b[49m\n",
      "\u001b[0;31mTypeError\u001b[0m: list.count() takes exactly one argument (0 given)"
     ]
    }
   ],
   "source": [
    "l1.count()"
   ]
  },
  {
   "cell_type": "code",
   "execution_count": 28,
   "id": "1ecf7fdb-0b79-41e2-bfe9-29fc32af857c",
   "metadata": {},
   "outputs": [
    {
     "data": {
      "text/plain": [
       "10"
      ]
     },
     "execution_count": 28,
     "metadata": {},
     "output_type": "execute_result"
    }
   ],
   "source": [
    "len(l1)"
   ]
  },
  {
   "cell_type": "code",
   "execution_count": 30,
   "id": "dadcaacb-797c-4703-8785-bb1285cdad5b",
   "metadata": {},
   "outputs": [
    {
     "data": {
      "text/plain": [
       "3"
      ]
     },
     "execution_count": 30,
     "metadata": {},
     "output_type": "execute_result"
    }
   ],
   "source": [
    "l1.count(1)"
   ]
  },
  {
   "cell_type": "code",
   "execution_count": 1,
   "id": "e83982d5-d82f-46fb-8264-9585b4b20b39",
   "metadata": {},
   "outputs": [],
   "source": [
    "var=[12,23.89,\"akshay\",True,False,[2,45.79,\"jha\"]]"
   ]
  },
  {
   "cell_type": "code",
   "execution_count": 2,
   "id": "15041a11-9dd0-4584-a61f-e9e639b76fc0",
   "metadata": {},
   "outputs": [
    {
     "data": {
      "text/plain": [
       "12"
      ]
     },
     "execution_count": 2,
     "metadata": {},
     "output_type": "execute_result"
    }
   ],
   "source": [
    "var[0]"
   ]
  },
  {
   "cell_type": "code",
   "execution_count": 3,
   "id": "d59473dc-1dcb-4d4f-bb08-a74c2414e303",
   "metadata": {},
   "outputs": [],
   "source": [
    "var.insert(1,12)"
   ]
  },
  {
   "cell_type": "code",
   "execution_count": 4,
   "id": "1d153b6c-3aac-4fcc-aa55-d20dd8eec377",
   "metadata": {},
   "outputs": [
    {
     "data": {
      "text/plain": [
       "[12, 12, 23.89, 'akshay', True, False, [2, 45.79, 'jha']]"
      ]
     },
     "execution_count": 4,
     "metadata": {},
     "output_type": "execute_result"
    }
   ],
   "source": [
    "var"
   ]
  },
  {
   "cell_type": "code",
   "execution_count": 5,
   "id": "5bffeff8-5153-4345-8747-60c99c8c58be",
   "metadata": {},
   "outputs": [],
   "source": [
    "var.append(23)"
   ]
  },
  {
   "cell_type": "code",
   "execution_count": 6,
   "id": "9fe7ccfd-bd0a-4581-a279-19267a7847ad",
   "metadata": {},
   "outputs": [
    {
     "data": {
      "text/plain": [
       "[12, 12, 23.89, 'akshay', True, False, [2, 45.79, 'jha'], 23]"
      ]
     },
     "execution_count": 6,
     "metadata": {},
     "output_type": "execute_result"
    }
   ],
   "source": [
    "var"
   ]
  },
  {
   "cell_type": "code",
   "execution_count": 7,
   "id": "b4e41df8-8cf8-4191-8832-f212d31e051f",
   "metadata": {},
   "outputs": [
    {
     "data": {
      "text/plain": [
       "0"
      ]
     },
     "execution_count": 7,
     "metadata": {},
     "output_type": "execute_result"
    }
   ],
   "source": [
    "var.count(2)"
   ]
  },
  {
   "cell_type": "code",
   "execution_count": 8,
   "id": "22e060d2-01e2-4372-a806-35be567b7710",
   "metadata": {},
   "outputs": [
    {
     "ename": "IndexError",
     "evalue": "pop index out of range",
     "output_type": "error",
     "traceback": [
      "\u001b[0;31m---------------------------------------------------------------------------\u001b[0m",
      "\u001b[0;31mIndexError\u001b[0m                                Traceback (most recent call last)",
      "Cell \u001b[0;32mIn[8], line 1\u001b[0m\n\u001b[0;32m----> 1\u001b[0m \u001b[43mvar\u001b[49m\u001b[38;5;241;43m.\u001b[39;49m\u001b[43mpop\u001b[49m\u001b[43m(\u001b[49m\u001b[38;5;241;43m12\u001b[39;49m\u001b[43m)\u001b[49m\n",
      "\u001b[0;31mIndexError\u001b[0m: pop index out of range"
     ]
    }
   ],
   "source": [
    "var.pop(12)"
   ]
  },
  {
   "cell_type": "code",
   "execution_count": 9,
   "id": "e1f2e3d4-08fb-4ff1-a060-4b4dbcd6b0db",
   "metadata": {},
   "outputs": [
    {
     "ename": "SyntaxError",
     "evalue": "invalid syntax (991005372.py, line 1)",
     "output_type": "error",
     "traceback": [
      "\u001b[0;36m  Cell \u001b[0;32mIn[9], line 1\u001b[0;36m\u001b[0m\n\u001b[0;31m    var.(1)\u001b[0m\n\u001b[0m        ^\u001b[0m\n\u001b[0;31mSyntaxError\u001b[0m\u001b[0;31m:\u001b[0m invalid syntax\n"
     ]
    }
   ],
   "source": [
    "var.(1)"
   ]
  },
  {
   "cell_type": "code",
   "execution_count": 10,
   "id": "038eea59-839b-48bd-bbae-8dfad575f443",
   "metadata": {},
   "outputs": [
    {
     "data": {
      "text/plain": [
       "12"
      ]
     },
     "execution_count": 10,
     "metadata": {},
     "output_type": "execute_result"
    }
   ],
   "source": [
    "var.pop(1)"
   ]
  },
  {
   "cell_type": "code",
   "execution_count": 11,
   "id": "c6bb1295-17c8-4889-8c94-d2faa8bdf162",
   "metadata": {},
   "outputs": [
    {
     "data": {
      "text/plain": [
       "[12, 23.89, 'akshay', True, False, [2, 45.79, 'jha'], 23]"
      ]
     },
     "execution_count": 11,
     "metadata": {},
     "output_type": "execute_result"
    }
   ],
   "source": [
    "var"
   ]
  },
  {
   "cell_type": "code",
   "execution_count": 12,
   "id": "edf884b9-83c1-4c88-a70d-55fd8038a6ed",
   "metadata": {},
   "outputs": [
    {
     "data": {
      "text/plain": [
       "12"
      ]
     },
     "execution_count": 12,
     "metadata": {},
     "output_type": "execute_result"
    }
   ],
   "source": [
    "var.pop(0)"
   ]
  },
  {
   "cell_type": "code",
   "execution_count": 13,
   "id": "be7bb04f-bf00-42fc-b876-1b1e339a3c67",
   "metadata": {},
   "outputs": [
    {
     "data": {
      "text/plain": [
       "[23.89, 'akshay', True, False, [2, 45.79, 'jha'], 23]"
      ]
     },
     "execution_count": 13,
     "metadata": {},
     "output_type": "execute_result"
    }
   ],
   "source": [
    "var"
   ]
  },
  {
   "cell_type": "code",
   "execution_count": 14,
   "id": "b5cf04e5-23fd-43d4-81c0-4959671a47aa",
   "metadata": {},
   "outputs": [],
   "source": [
    "var.remove(\"akshay\")"
   ]
  },
  {
   "cell_type": "code",
   "execution_count": 15,
   "id": "78261451-520b-4a00-a55f-2a9126f44025",
   "metadata": {},
   "outputs": [
    {
     "data": {
      "text/plain": [
       "[23.89, True, False, [2, 45.79, 'jha'], 23]"
      ]
     },
     "execution_count": 15,
     "metadata": {},
     "output_type": "execute_result"
    }
   ],
   "source": [
    "var"
   ]
  },
  {
   "cell_type": "code",
   "execution_count": 22,
   "id": "c3911e4f-866b-42c9-bac1-51c31b45ebe1",
   "metadata": {},
   "outputs": [],
   "source": [
    "l1=[45,'sudh', [2,3,4],4]"
   ]
  },
  {
   "cell_type": "code",
   "execution_count": 26,
   "id": "3b955eda-e38b-47bc-96c5-174a7444e0cf",
   "metadata": {},
   "outputs": [
    {
     "data": {
      "text/plain": [
       "[2, 4]"
      ]
     },
     "execution_count": 26,
     "metadata": {},
     "output_type": "execute_result"
    }
   ],
   "source": [
    "l1[2]"
   ]
  },
  {
   "cell_type": "code",
   "execution_count": 29,
   "id": "43c0c18d-3066-4889-ae91-89a063537dc4",
   "metadata": {},
   "outputs": [
    {
     "data": {
      "text/plain": [
       "'sudh'"
      ]
     },
     "execution_count": 29,
     "metadata": {},
     "output_type": "execute_result"
    }
   ],
   "source": [
    "l1[1]"
   ]
  },
  {
   "cell_type": "code",
   "execution_count": 30,
   "id": "03a8963c-797f-49b8-8aff-270e0b4a8870",
   "metadata": {},
   "outputs": [],
   "source": [
    "l1.append(12)"
   ]
  },
  {
   "cell_type": "code",
   "execution_count": 31,
   "id": "69c41c16-25d4-472f-8737-1e81a3c713e5",
   "metadata": {},
   "outputs": [
    {
     "data": {
      "text/plain": [
       "[45, 'sudh', [2, 4], 4, 12]"
      ]
     },
     "execution_count": 31,
     "metadata": {},
     "output_type": "execute_result"
    }
   ],
   "source": [
    "l1"
   ]
  },
  {
   "cell_type": "code",
   "execution_count": 32,
   "id": "526779f7-d957-4523-9817-81f72aa7486a",
   "metadata": {},
   "outputs": [],
   "source": [
    "l1.insert(2,\"data\")"
   ]
  },
  {
   "cell_type": "code",
   "execution_count": 33,
   "id": "8b32b724-08d9-4c1e-a1c2-09a57ef5d6cc",
   "metadata": {},
   "outputs": [
    {
     "data": {
      "text/plain": [
       "[45, 'sudh', 'data', [2, 4], 4, 12]"
      ]
     },
     "execution_count": 33,
     "metadata": {},
     "output_type": "execute_result"
    }
   ],
   "source": [
    "l1"
   ]
  },
  {
   "cell_type": "code",
   "execution_count": 34,
   "id": "f0f5f17b-8ef6-44da-a53e-9955052b3d86",
   "metadata": {},
   "outputs": [
    {
     "data": {
      "text/plain": [
       "list"
      ]
     },
     "execution_count": 34,
     "metadata": {},
     "output_type": "execute_result"
    }
   ],
   "source": [
    "type(l1)"
   ]
  },
  {
   "cell_type": "code",
   "execution_count": 40,
   "id": "bc66519e-becf-41ee-b6dc-2d6a06cc7243",
   "metadata": {},
   "outputs": [],
   "source": [
    "t=(12,23.4,\"akshay\",23+32j)"
   ]
  },
  {
   "cell_type": "code",
   "execution_count": 41,
   "id": "61fe0724-5cd9-40b4-977e-deaa1577b00e",
   "metadata": {},
   "outputs": [
    {
     "data": {
      "text/plain": [
       "tuple"
      ]
     },
     "execution_count": 41,
     "metadata": {},
     "output_type": "execute_result"
    }
   ],
   "source": [
    "type(t)"
   ]
  },
  {
   "cell_type": "code",
   "execution_count": 39,
   "id": "7f5dd35b-f30d-4c05-8895-43bc83eb2097",
   "metadata": {},
   "outputs": [],
   "source": [
    "r=()"
   ]
  },
  {
   "cell_type": "code",
   "execution_count": 38,
   "id": "6b93955f-22d2-4b97-8779-acec082d32d4",
   "metadata": {},
   "outputs": [
    {
     "data": {
      "text/plain": [
       "dict"
      ]
     },
     "execution_count": 38,
     "metadata": {},
     "output_type": "execute_result"
    }
   ],
   "source": [
    "type(r)"
   ]
  },
  {
   "cell_type": "code",
   "execution_count": 42,
   "id": "4092c9be-fa9b-41da-abc2-5b4b237e61da",
   "metadata": {},
   "outputs": [
    {
     "ename": "AttributeError",
     "evalue": "'tuple' object has no attribute 'insert'",
     "output_type": "error",
     "traceback": [
      "\u001b[0;31m---------------------------------------------------------------------------\u001b[0m",
      "\u001b[0;31mAttributeError\u001b[0m                            Traceback (most recent call last)",
      "Cell \u001b[0;32mIn[42], line 1\u001b[0m\n\u001b[0;32m----> 1\u001b[0m \u001b[43mt\u001b[49m\u001b[38;5;241;43m.\u001b[39;49m\u001b[43minsert\u001b[49m(\u001b[38;5;241m2\u001b[39m,\u001b[38;5;241m12\u001b[39m)\n",
      "\u001b[0;31mAttributeError\u001b[0m: 'tuple' object has no attribute 'insert'"
     ]
    }
   ],
   "source": [
    "t.insert(2,12)"
   ]
  },
  {
   "cell_type": "code",
   "execution_count": 43,
   "id": "82f94f0e-53b8-43cf-a0a3-be3a4bc8b3b2",
   "metadata": {},
   "outputs": [
    {
     "ename": "ValueError",
     "evalue": "tuple.index(x): x not in tuple",
     "output_type": "error",
     "traceback": [
      "\u001b[0;31m---------------------------------------------------------------------------\u001b[0m",
      "\u001b[0;31mValueError\u001b[0m                                Traceback (most recent call last)",
      "Cell \u001b[0;32mIn[43], line 1\u001b[0m\n\u001b[0;32m----> 1\u001b[0m \u001b[43mt\u001b[49m\u001b[38;5;241;43m.\u001b[39;49m\u001b[43mindex\u001b[49m\u001b[43m(\u001b[49m\u001b[38;5;241;43m2\u001b[39;49m\u001b[43m)\u001b[49m\n",
      "\u001b[0;31mValueError\u001b[0m: tuple.index(x): x not in tuple"
     ]
    }
   ],
   "source": [
    "t.index(2)"
   ]
  },
  {
   "cell_type": "code",
   "execution_count": 44,
   "id": "132aaa32-cccb-4c2d-a1e1-474fae0a92d5",
   "metadata": {},
   "outputs": [
    {
     "ename": "TypeError",
     "evalue": "index expected at least 1 argument, got 0",
     "output_type": "error",
     "traceback": [
      "\u001b[0;31m---------------------------------------------------------------------------\u001b[0m",
      "\u001b[0;31mTypeError\u001b[0m                                 Traceback (most recent call last)",
      "Cell \u001b[0;32mIn[44], line 1\u001b[0m\n\u001b[0;32m----> 1\u001b[0m \u001b[43mt\u001b[49m\u001b[38;5;241;43m.\u001b[39;49m\u001b[43mindex\u001b[49m\u001b[43m(\u001b[49m\u001b[43m)\u001b[49m\n",
      "\u001b[0;31mTypeError\u001b[0m: index expected at least 1 argument, got 0"
     ]
    }
   ],
   "source": [
    "t.index()"
   ]
  },
  {
   "cell_type": "code",
   "execution_count": 2,
   "id": "8855a753-6ffc-46b4-8983-c7dbe75c62f8",
   "metadata": {},
   "outputs": [],
   "source": [
    "d1={\"key\" : \"akshay\"}"
   ]
  },
  {
   "cell_type": "code",
   "execution_count": 8,
   "id": "8cba5ba0-bd89-4a22-bbd8-479a09dbc4a1",
   "metadata": {},
   "outputs": [
    {
     "data": {
      "text/plain": [
       "{'key': 'akshayf'}"
      ]
     },
     "execution_count": 8,
     "metadata": {},
     "output_type": "execute_result"
    }
   ],
   "source": [
    "d1"
   ]
  },
  {
   "cell_type": "code",
   "execution_count": 9,
   "id": "b969f2fc-4fe3-40df-8c17-04199c64c1ab",
   "metadata": {},
   "outputs": [
    {
     "data": {
      "text/plain": [
       "'akshayf'"
      ]
     },
     "execution_count": 9,
     "metadata": {},
     "output_type": "execute_result"
    }
   ],
   "source": [
    "d1['key']"
   ]
  },
  {
   "cell_type": "code",
   "execution_count": 10,
   "id": "900bf03e-e676-4730-a65c-5e246c78c201",
   "metadata": {},
   "outputs": [],
   "source": [
    "d2={234:'akshay', \"@jha\" : 721 , True : 34.56}"
   ]
  },
  {
   "cell_type": "code",
   "execution_count": 11,
   "id": "1cbd79f1-fb9b-476d-aef4-f56330436f9b",
   "metadata": {},
   "outputs": [
    {
     "data": {
      "text/plain": [
       "{234: 'akshay', '@jha': 721, True: 34.56}"
      ]
     },
     "execution_count": 11,
     "metadata": {},
     "output_type": "execute_result"
    }
   ],
   "source": [
    "d2"
   ]
  },
  {
   "cell_type": "code",
   "execution_count": 13,
   "id": "b003b3a2-1c2b-4afd-bf25-528ee2b805bc",
   "metadata": {},
   "outputs": [
    {
     "data": {
      "text/plain": [
       "'akshay'"
      ]
     },
     "execution_count": 13,
     "metadata": {},
     "output_type": "execute_result"
    }
   ],
   "source": [
    "d2[234]"
   ]
  },
  {
   "cell_type": "code",
   "execution_count": 16,
   "id": "5e3fef6f-91a2-4abe-9d1e-aaf0c97667ee",
   "metadata": {},
   "outputs": [
    {
     "data": {
      "text/plain": [
       "34.56"
      ]
     },
     "execution_count": 16,
     "metadata": {},
     "output_type": "execute_result"
    }
   ],
   "source": [
    "d2[1]"
   ]
  },
  {
   "cell_type": "code",
   "execution_count": 17,
   "id": "348c5428-e86c-4b97-8cbe-134bfe5fd24d",
   "metadata": {},
   "outputs": [
    {
     "data": {
      "text/plain": [
       "721"
      ]
     },
     "execution_count": 17,
     "metadata": {},
     "output_type": "execute_result"
    }
   ],
   "source": [
    "d2[\"@jha\"]"
   ]
  },
  {
   "cell_type": "code",
   "execution_count": 18,
   "id": "950a1a54-10ff-4438-8fc1-2d39018d44ad",
   "metadata": {},
   "outputs": [
    {
     "data": {
      "text/plain": [
       "721"
      ]
     },
     "execution_count": 18,
     "metadata": {},
     "output_type": "execute_result"
    }
   ],
   "source": [
    "d2['@jha']"
   ]
  },
  {
   "cell_type": "code",
   "execution_count": 19,
   "id": "b274c3e5-188e-49ed-8dec-63821aaed264",
   "metadata": {},
   "outputs": [],
   "source": [
    "d3={\"name\" : \"akshay\", \"mail-id\" : \"akshayraj9123@gmail.com\", \"name\": \"jha\"}"
   ]
  },
  {
   "cell_type": "code",
   "execution_count": 20,
   "id": "ca3e5d17-2c6a-468d-bf61-2240f078a273",
   "metadata": {},
   "outputs": [
    {
     "data": {
      "text/plain": [
       "{'name': 'jha', 'mail-id': 'akshayraj9123@gmail.com'}"
      ]
     },
     "execution_count": 20,
     "metadata": {},
     "output_type": "execute_result"
    }
   ],
   "source": [
    "d3"
   ]
  },
  {
   "cell_type": "code",
   "execution_count": 21,
   "id": "001e4990-3164-4c3d-a45c-1579499cbad3",
   "metadata": {},
   "outputs": [
    {
     "data": {
      "text/plain": [
       "'jha'"
      ]
     },
     "execution_count": 21,
     "metadata": {},
     "output_type": "execute_result"
    }
   ],
   "source": [
    "d3['name']"
   ]
  },
  {
   "cell_type": "code",
   "execution_count": 22,
   "id": "4dfb8dba-6ca6-4553-81a8-79ee73820ebb",
   "metadata": {},
   "outputs": [],
   "source": [
    "d4={'name': \"akshay jha\", 'mail': 'akshayraj9123','pen' : ['gel', 'ball', 12, 12.3, True]}"
   ]
  },
  {
   "cell_type": "code",
   "execution_count": 23,
   "id": "5057598c-0b7d-4690-8038-00dd1b782b3a",
   "metadata": {},
   "outputs": [
    {
     "data": {
      "text/plain": [
       "{'name': 'akshay jha',\n",
       " 'mail': 'akshayraj9123',\n",
       " 'pen': ['gel', 'ball', 12, 12.3, True]}"
      ]
     },
     "execution_count": 23,
     "metadata": {},
     "output_type": "execute_result"
    }
   ],
   "source": [
    "d4"
   ]
  },
  {
   "cell_type": "code",
   "execution_count": 24,
   "id": "991f12dd-847c-4a29-92a5-a6089b3bbf85",
   "metadata": {},
   "outputs": [
    {
     "data": {
      "text/plain": [
       "['gel', 'ball', 12, 12.3, True]"
      ]
     },
     "execution_count": 24,
     "metadata": {},
     "output_type": "execute_result"
    }
   ],
   "source": [
    "d4['pen']"
   ]
  },
  {
   "cell_type": "code",
   "execution_count": 16,
   "id": "16b58ea7-416b-4cd0-97b7-4390294ab0bb",
   "metadata": {},
   "outputs": [
    {
     "name": "stdin",
     "output_type": "stream",
     "text": [
      "enter your marks 256\n"
     ]
    },
    {
     "name": "stdout",
     "output_type": "stream",
     "text": [
      "work more\n"
     ]
    }
   ],
   "source": [
    "marks = int(input(\"enter your marks\"))\n",
    "if marks >=80 and marks <100:\n",
    "    print (\"you are under A0 batch\")\n",
    "elif marks >= 60 and marks< 80 :\n",
    "    print (\"you are under A1 batch\")\n",
    "elif marks >40 and marks<=60:\n",
    "    print (\"you are under A2 batch\")\n",
    "else :\n",
    "    print (\"work more\")"
   ]
  },
  {
   "cell_type": "code",
   "execution_count": 20,
   "id": "e0e5a6bd-6111-4219-8bfd-8614d188b62c",
   "metadata": {},
   "outputs": [
    {
     "name": "stdin",
     "output_type": "stream",
     "text": [
      "enter the price 200\n"
     ]
    },
    {
     "name": "stdout",
     "output_type": "stream",
     "text": [
      "i will purchase\n"
     ]
    }
   ],
   "source": [
    "price = int(input(\"enter the price\"))\n",
    "if price > 1000:\n",
    "    print (\"i will not purchase\")\n",
    "else : \n",
    "    print (\"i will purchase\")"
   ]
  },
  {
   "cell_type": "code",
   "execution_count": 22,
   "id": "94b93db0-2fbc-49b9-b80c-3de17e50fd0a",
   "metadata": {},
   "outputs": [],
   "source": [
    "l=[1,2,3,4,5,6,7,8,9]"
   ]
  },
  {
   "cell_type": "code",
   "execution_count": 23,
   "id": "07bb69fa-ba6e-45a8-b6d0-1f1ea7271004",
   "metadata": {},
   "outputs": [
    {
     "data": {
      "text/plain": [
       "1"
      ]
     },
     "execution_count": 23,
     "metadata": {},
     "output_type": "execute_result"
    }
   ],
   "source": [
    "l[0]"
   ]
  },
  {
   "cell_type": "code",
   "execution_count": 25,
   "id": "b5adfd5b-00ba-480b-b38c-09587dd90173",
   "metadata": {},
   "outputs": [],
   "source": [
    "l.append(l[0]+1)"
   ]
  },
  {
   "cell_type": "code",
   "execution_count": 26,
   "id": "5761f72b-c057-4473-a734-aa0f95356342",
   "metadata": {},
   "outputs": [
    {
     "data": {
      "text/plain": [
       "[1, 2, 3, 4, 5, 6, 7, 8, 9, 2]"
      ]
     },
     "execution_count": 26,
     "metadata": {},
     "output_type": "execute_result"
    }
   ],
   "source": [
    "l"
   ]
  },
  {
   "cell_type": "code",
   "execution_count": 35,
   "id": "5d1e42f0-2bd7-4417-bb0b-ce4f97858573",
   "metadata": {},
   "outputs": [
    {
     "name": "stdout",
     "output_type": "stream",
     "text": [
      "2\n",
      "3\n",
      "4\n",
      "5\n",
      "6\n",
      "7\n",
      "8\n",
      "9\n",
      "10\n",
      "3\n"
     ]
    },
    {
     "data": {
      "text/plain": [
       "[2, 3, 4, 5, 6, 7, 8, 9, 10, 3]"
      ]
     },
     "execution_count": 35,
     "metadata": {},
     "output_type": "execute_result"
    }
   ],
   "source": [
    "l1=[]\n",
    "for i in l :\n",
    "    print (i+1)\n",
    "    l1.append(i+1)\n",
    "l1"
   ]
  },
  {
   "cell_type": "code",
   "execution_count": 38,
   "id": "5da62a24-5f02-42af-9518-6e53c2ed9dd2",
   "metadata": {},
   "outputs": [
    {
     "name": "stdout",
     "output_type": "stream",
     "text": [
      "akshay\n",
      "jha\n",
      "darbhanga\n",
      "course\n"
     ]
    },
    {
     "data": {
      "text/plain": [
       "['AKSHAY', 'JHA', 'DARBHANGA', 'COURSE']"
      ]
     },
     "execution_count": 38,
     "metadata": {},
     "output_type": "execute_result"
    }
   ],
   "source": [
    "l1=[]\n",
    "l=[\"akshay\", 'jha','darbhanga','course']\n",
    "for j in l:\n",
    "    print (j)\n",
    "    l1.append(j.upper())\n",
    "l1"
   ]
  },
  {
   "cell_type": "code",
   "execution_count": 39,
   "id": "83ae470e-a790-4a93-b071-96db1240cf5f",
   "metadata": {},
   "outputs": [
    {
     "data": {
      "text/plain": [
       "['AKSHAY', 'JHA', 'DARBHANGA', 'COURSE']"
      ]
     },
     "execution_count": 39,
     "metadata": {},
     "output_type": "execute_result"
    }
   ],
   "source": [
    "l1"
   ]
  },
  {
   "cell_type": "code",
   "execution_count": 47,
   "id": "22aa76cb-e779-4def-83a0-feb166b2629c",
   "metadata": {},
   "outputs": [
    {
     "name": "stdout",
     "output_type": "stream",
     "text": [
      "[1, 2, 34, 5, 6, 23.45, 238]\n",
      "['akshay', 'jha']\n"
     ]
    }
   ],
   "source": [
    "l1=[]\n",
    "l2=[]\n",
    "l=[1,2,34,5,6,'akshay', 'jha', 23.45,238]\n",
    "for i in l :\n",
    "    if type(i)==int or type(i) == float :\n",
    "        l1.append(i)\n",
    "    else :\n",
    "        l2.append(i)\n",
    "print (l1)\n",
    "print (l2)"
   ]
  },
  {
   "cell_type": "code",
   "execution_count": null,
   "id": "08e9fcfb-185c-4e73-87bb-28ed9c14c552",
   "metadata": {},
   "outputs": [],
   "source": []
  }
 ],
 "metadata": {
  "kernelspec": {
   "display_name": "Python 3 (ipykernel)",
   "language": "python",
   "name": "python3"
  },
  "language_info": {
   "codemirror_mode": {
    "name": "ipython",
    "version": 3
   },
   "file_extension": ".py",
   "mimetype": "text/x-python",
   "name": "python",
   "nbconvert_exporter": "python",
   "pygments_lexer": "ipython3",
   "version": "3.10.8"
  }
 },
 "nbformat": 4,
 "nbformat_minor": 5
}
