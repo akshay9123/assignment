{
 "cells": [
  {
   "cell_type": "code",
   "execution_count": 8,
   "id": "9c042bc5-3ac0-49a5-937f-aee51e104b31",
   "metadata": {},
   "outputs": [],
   "source": [
    "# Q1. Explain Class and Object with respect to Object-Oriented Programming. Give a suitable example.\n",
    "# ans :- A Class in object oriented programming is a blueprint or prototype that defines the variables and the methods (functions) common to all.\n",
    "#        Objects of a certain kind. An object in OOPS is a specimen of a class. Software objects are often used to model real-world objects you find in \n",
    "#           everyday life.\n",
    "\n",
    "\n",
    "\n",
    "\n",
    "# Q2. Name the four pillars of OOPs.\n",
    "# ans:- Inheritance, Polymorphism, Encapsulation and Abstraction.\n",
    "\n",
    "\n",
    "\n",
    "\n",
    "# Q3. Explain why the __init__() function is used. Give a suitable example.\n",
    "# ans:- __init__ is a special python method that runs whenever a new object is created. These types of \n",
    "#      functions are used to initialize the attributes of that class, E.g., if the class is Person, then the attributes will be name, age, etc.\n",
    "       \n",
    "    \n",
    "    \n",
    "    \n",
    "# Q3. Explain why the __init__() function is used. Give a suitable example.\n",
    "# ans:- __init__ is a special python method that runs whenever a new object is created. These types of \n",
    "#      functions are used to initialize the attributes of that class, E.g., if the class is Person, then the attributes will be name, age, etc.\n",
    "\n",
    "\n",
    "\n",
    "\n",
    "\n",
    "# Q4. Why self is used in OOPs?\n",
    "# ans:- The use of self makes it easier to distinguish between instance attributes (and methods) from local variables.\n",
    "\n",
    "\n",
    "\n",
    "# Q5. What is inheritance? Give an example for each type of inheritance.\n",
    "# ans:- Inheritance is a mechanism of acquiring the features and behaviors of a class by another class. \n",
    "# The class whose members are inherited is called the base class, and the class that inherits those members is called the derived class."
   ]
  }
 ],
 "metadata": {
  "kernelspec": {
   "display_name": "Python 3 (ipykernel)",
   "language": "python",
   "name": "python3"
  },
  "language_info": {
   "codemirror_mode": {
    "name": "ipython",
    "version": 3
   },
   "file_extension": ".py",
   "mimetype": "text/x-python",
   "name": "python",
   "nbconvert_exporter": "python",
   "pygments_lexer": "ipython3",
   "version": "3.10.8"
  }
 },
 "nbformat": 4,
 "nbformat_minor": 5
}
