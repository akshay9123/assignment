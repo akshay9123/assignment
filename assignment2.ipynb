{
 "cells": [
  {
   "cell_type": "code",
   "execution_count": 5,
   "id": "cca45b53-55e7-43dc-a003-09618d6c07f2",
   "metadata": {},
   "outputs": [
    {
     "name": "stdout",
     "output_type": "stream",
     "text": [
      "55\n",
      "55\n"
     ]
    }
   ],
   "source": [
    "# q1. Explain with an example each when to use a for loop and a while loop.\n",
    "# ans :- we should use for loop when the iteration is known to the user.\n",
    "#        and while loop is used the iteration is not known to the user.\n",
    "\n",
    "        \n",
    "# Q2. Write a python program to print the sum and product of the first 10 natural numbers using for\n",
    "# and while loop.\n",
    "# ans :- by for loop \n",
    "value = 0\n",
    "\n",
    "for i in range(11):\n",
    "    value = value +i\n",
    "print (value)\n",
    "\n",
    "# by while loop\n",
    "value = 10\n",
    "sum =0\n",
    "while(value>0):\n",
    "    sum=value+sum\n",
    "    value=value-1\n",
    "print(sum)\n",
    "\n",
    "# Q3. Create a python program to compute the electricity bill for a household.\n",
    "# The per-unit charges in rupees are as follows: For the first 100 units, the user will be charged Rs. 4.5 per\n",
    "# unit, for the next 100 units, the user will be charged Rs. 6 per unit, and for the next 100 units, the user will\n",
    "# be charged Rs. 10 per unit, After 300 units and above the user will be charged Rs. 20 per unit.\n",
    "# ans :- \n",
    "unit = int(input(\"enter the unit of electric \"))\n",
    "if unit <=100 :\n",
    "    print (\"you have to pay :- \", 4.5*unit)\n",
    "elif unit > 100 and unit <= 200 :\n",
    "    print(\"you have to pay :- \", 6*unit)\n",
    "elif unit > 200 and unit <= 300 :\n",
    "    print(\"you have to pay :- \", 10*unit)\n",
    "else :\n",
    "    print(\"you have to pay :- \", 20*unit)\n",
    "    \n",
    "    \n",
    "    \n",
    "# Q4. Create a list of numbers from 1 to 100. Use for loop and while loop to calculate the cube of each\n",
    "# number and if the cube of that number is divisible by 4 or 5 then append that number in a list and print\n",
    "# that list.\n",
    "# ans:- \n",
    "l=[]\n",
    "print(list(range(1,101)))\n",
    "for i in range(1,101):\n",
    "    print(i*i*i)\n",
    "    if (i*i*i)%4 or 5==0:\n",
    "        print(\"yes\")\n",
    "        \n",
    "        \n",
    "        \n",
    "# Q5. Write a program to filter count vowels in the below-given string.\n",
    "# string = \"I want to become a data scientist\"\n",
    "# ans :- \n",
    "\n",
    "    "
   ]
  },
  {
   "cell_type": "code",
   "execution_count": null,
   "id": "8ceb239a-1664-412f-842b-ac93eb1276e0",
   "metadata": {},
   "outputs": [],
   "source": []
  }
 ],
 "metadata": {
  "kernelspec": {
   "display_name": "Python 3 (ipykernel)",
   "language": "python",
   "name": "python3"
  },
  "language_info": {
   "codemirror_mode": {
    "name": "ipython",
    "version": 3
   },
   "file_extension": ".py",
   "mimetype": "text/x-python",
   "name": "python",
   "nbconvert_exporter": "python",
   "pygments_lexer": "ipython3",
   "version": "3.10.8"
  }
 },
 "nbformat": 4,
 "nbformat_minor": 5
}
